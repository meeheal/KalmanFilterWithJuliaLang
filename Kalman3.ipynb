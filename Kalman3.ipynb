{
  "cells": [
    {
      "cell_type": "code",
      "source": [
        "using LinearAlgebra\n",
        "\n"
      ],
      "outputs": [],
      "execution_count": 82,
      "metadata": {
        "collapsed": true,
        "jupyter": {
          "source_hidden": false,
          "outputs_hidden": false
        },
        "nteract": {
          "transient": {
            "deleting": false
          }
        },
        "execution": {
          "iopub.status.busy": "2021-03-16T12:26:51.940Z",
          "iopub.execute_input": "2021-03-16T12:26:51.948Z",
          "iopub.status.idle": "2021-03-16T12:26:51.960Z"
        }
      }
    },
    {
      "cell_type": "markdown",
      "source": [
        "#true position of target \n",
        "#note zero\n",
        "#acceleration\n"
      ],
      "metadata": {
        "nteract": {
          "transient": {
            "deleting": false
          }
        }
      }
    },
    {
      "cell_type": "code",
      "source": [
        "# Example Here\n",
        "A = [1 0 1 0; 0 1 0 1; 0 0 1 0; 0 0 0 1]\n",
        "sigma = 0.09774\n",
        "\n",
        "\n",
        "truex = [1.4, 1.2, 1.0, 0.8]\n",
        "truey = [1.65, 1.05, 0.45, -0.15]\n",
        "truetheta1 = pi * (truey .< 0) .+ atan.(truex./truey);\n",
        "truetheta2 = pi * (truey .> 1) .+ atan.(truex./(1 .- truey))\n",
        "theta1 = (truetheta1 .+ randn(4)*sigma)\n",
        "theta2 = (truetheta2 .+ randn(4)*sigma)\n",
        "x = (sin.(theta1) .* sin.(theta2) ) ./ (sin.(theta1 .+ theta2))\n",
        "y = (cos.(theta1) .* sin.(theta2) ) ./ (sin.(theta1 .+ theta2));\n"
      ],
      "outputs": [],
      "execution_count": 83,
      "metadata": {
        "collapsed": true,
        "jupyter": {
          "source_hidden": false,
          "outputs_hidden": false
        },
        "nteract": {
          "transient": {
            "deleting": false
          }
        },
        "execution": {
          "iopub.status.busy": "2021-03-16T12:26:51.969Z",
          "iopub.execute_input": "2021-03-16T12:26:51.976Z",
          "iopub.status.idle": "2021-03-16T12:26:51.987Z"
        }
      }
    },
    {
      "cell_type": "code",
      "source": [
        "#here are the observations x and y\n",
        "\n",
        "vx = similar(x)\n",
        "vx[1] = 0\n",
        "for i in 2:length(x)\n",
        "     vx[i] = x[i] - x[i-1]\n",
        "end\n",
        "\n",
        "vy = similar(y)\n",
        "vy[1] = 0\n",
        "for i in 2:length(y)\n",
        "     vy[i] = y[i] - y[i-1]\n",
        "end\n",
        "\n",
        "\n"
      ],
      "outputs": [],
      "execution_count": 84,
      "metadata": {
        "collapsed": true,
        "jupyter": {
          "source_hidden": false,
          "outputs_hidden": false
        },
        "nteract": {
          "transient": {
            "deleting": false
          }
        },
        "execution": {
          "iopub.status.busy": "2021-03-16T12:26:51.997Z",
          "iopub.execute_input": "2021-03-16T12:26:52.003Z",
          "iopub.status.idle": "2021-03-16T12:26:52.013Z"
        }
      }
    },
    {
      "cell_type": "code",
      "source": [
        "# Calculate \"Process Covariance Matrix \n",
        "\n",
        "# A*Pk0*A'\n",
        "\n",
        "dfdtheta1 = (1 ./ sin.(theta1 .+ theta2)) .*(sin.(theta2).*cos.(theta1) .- sin.(theta2).*sin.(theta1).*cot.(theta1 .+ theta2))\n",
        "\n",
        "dfdtheta2 = (1 ./ sin.(theta1 .+ theta2)).*(sin.(theta1).*cos.(theta2) .- sin.(theta2).*sin.(theta1).*cot.(theta1 .+ theta2))\n",
        "\n",
        "dgdtheta1 = (1 ./ sin.(theta1 .+ theta2)).*(-sin.(theta2).*sin.(theta1) .- sin.(theta2).*cos.(theta1).*cot.(theta1 .+ theta2))\n",
        "\n",
        "dgdtheta2 = (1 ./ sin.(theta1 .+ theta2)).*(cos.(theta2).*cos.(theta1) .- sin.(theta2).*cos.(theta1).*cot.(theta1 .+ theta2));\n"
      ],
      "outputs": [],
      "execution_count": 85,
      "metadata": {
        "collapsed": true,
        "jupyter": {
          "source_hidden": false,
          "outputs_hidden": false
        },
        "nteract": {
          "transient": {
            "deleting": false
          }
        },
        "execution": {
          "iopub.status.busy": "2021-03-16T12:26:52.021Z",
          "iopub.execute_input": "2021-03-16T12:26:52.028Z",
          "iopub.status.idle": "2021-03-16T12:26:52.038Z"
        }
      }
    },
    {
      "cell_type": "code",
      "source": [
        "\n",
        "\n",
        "varX = (sigma ^ 2) .* (dfdtheta1 .^ 2) .+ (sigma ^ 2) .* (dfdtheta2 .^ 2)\n",
        "varY = (sigma ^ 2) .* (dgdtheta1 .^ 2) .+ (sigma ^ 2) .* (dgdtheta2 .^ 2)\n",
        "\n",
        "covXY = (sigma ^ 2) .* (dfdtheta1 .* dgdtheta1) .+ (sigma ^ 2) .* (dfdtheta2 .* dgdtheta2);\n"
      ],
      "outputs": [],
      "execution_count": 86,
      "metadata": {
        "collapsed": true,
        "jupyter": {
          "source_hidden": false,
          "outputs_hidden": false
        },
        "nteract": {
          "transient": {
            "deleting": false
          }
        },
        "execution": {
          "iopub.status.busy": "2021-03-16T12:26:52.048Z",
          "iopub.execute_input": "2021-03-16T12:26:52.054Z",
          "iopub.status.idle": "2021-03-16T12:26:52.064Z"
        }
      }
    },
    {
      "cell_type": "code",
      "source": [
        "varVx = similar(varX)\n",
        "varVx[1] = 0\n",
        "for i in 2:length(varX)\n",
        "     varVx[i] = varX[i] + varX[i-1]\n",
        "end\n",
        "\n",
        "varVy = similar(varY)\n",
        "varVy[1] = 0\n",
        "for i in 2:length(varY)\n",
        "     varVy[i] = varY[i] + varY[i-1]\n",
        "end\n",
        "\n"
      ],
      "outputs": [],
      "execution_count": 87,
      "metadata": {
        "collapsed": true,
        "jupyter": {
          "source_hidden": false,
          "outputs_hidden": false
        },
        "nteract": {
          "transient": {
            "deleting": false
          }
        },
        "execution": {
          "iopub.status.busy": "2021-03-16T12:26:52.072Z",
          "iopub.execute_input": "2021-03-16T12:26:52.078Z",
          "iopub.status.idle": "2021-03-16T12:26:52.089Z"
        }
      }
    },
    {
      "cell_type": "code",
      "source": [
        "\n",
        "xk1 = [x[2], y[2], vx[2], vy[2]]\n",
        "xkp2 = A*xk1\n",
        "Pk1 = [varX[2] covXY[2] 0 0; covXY[2] varY[2] 0 0; 0 0 varVx[2] 0; 0 0 0 varVy[2]]\n",
        "Pkp2 = A*Pk1*A' \n",
        "Pkp2[3] = 0\n",
        "Pkp2[4] = 0\n",
        "Pkp2[7] = 0\n",
        "Pkp2[8] = 0\n",
        "Pkp2[9] = 0\n",
        "Pkp2[10] = 0\n",
        "Pkp2[12] = 0\n",
        "Pkp2[13] = 0\n",
        "Pkp2[14] = 0\n",
        "Pkp2[15] = 0\n",
        "R2 = [varX[3] covXY[3] 0 0; covXY[3] varY[3] 0 0; 0 0 varVx[3] 0; 0 0 0 varVy[3]]\n",
        "K2 = (Pkp2' + R2)\\(Pkp2)\n",
        "yk2 = [x[3], y[3], vx[3], vy[3]]\n",
        "xk2 = xkp2 + K2*(yk2 - xkp2)\n"
      ],
      "outputs": [
        {
          "output_type": "execute_result",
          "execution_count": 88,
          "data": {
            "text/plain": "4-element Array{Float64,1}:\n  1.3735560481433202\n  0.4928744930964556\n  0.02976214662637547\n -0.4903110318956163"
          },
          "metadata": {}
        }
      ],
      "execution_count": 88,
      "metadata": {
        "collapsed": true,
        "jupyter": {
          "source_hidden": false,
          "outputs_hidden": false
        },
        "nteract": {
          "transient": {
            "deleting": false
          }
        },
        "execution": {
          "iopub.status.busy": "2021-03-16T12:26:52.098Z",
          "iopub.execute_input": "2021-03-16T12:26:52.103Z",
          "iopub.status.idle": "2021-03-16T12:26:52.118Z"
        }
      }
    },
    {
      "cell_type": "code",
      "source": [
        "Pk2 = (I(4) - K2)*Pkp2*((I(4) - K2)') + K2*R2*K2'\n",
        "\n",
        "xkp3 = A*xk2\n",
        "Pkp3 = A*Pk2*A'\n",
        "Pkp3[3] = 0\n",
        "Pkp3[4] = 0\n",
        "Pkp3[7] = 0\n",
        "Pkp3[8] = 0\n",
        "Pkp3[9] = 0\n",
        "Pkp3[10] = 0\n",
        "Pkp3[12] = 0\n",
        "Pkp3[13] = 0\n",
        "Pkp3[14] = 0\n",
        "Pkp3[15] = 0\n",
        "R3 = [varX[4] covXY[4] 0 0; covXY[4] varY[4] 0 0; 0 0 varVx[4] 0; 0 0 0 varVy[4]]\n",
        "K3 = (Pkp3 + R3)\\Pkp3\n",
        "yk3 = [x[4], y[4], vx[4], vy[4]]\n",
        "xk3 = xkp3 + K3*(yk3 - xkp3)\n"
      ],
      "outputs": [
        {
          "output_type": "execute_result",
          "execution_count": 89,
          "data": {
            "text/plain": "4-element Array{Float64,1}:\n  0.5598991133805927\n -0.34979590201174793\n -0.4504428652633242\n -0.5845008919425738"
          },
          "metadata": {}
        }
      ],
      "execution_count": 89,
      "metadata": {
        "collapsed": true,
        "jupyter": {
          "source_hidden": false,
          "outputs_hidden": false
        },
        "nteract": {
          "transient": {
            "deleting": false
          }
        },
        "execution": {
          "iopub.status.busy": "2021-03-16T12:26:52.125Z",
          "iopub.execute_input": "2021-03-16T12:26:52.131Z",
          "iopub.status.idle": "2021-03-16T12:26:52.145Z"
        }
      }
    },
    {
      "cell_type": "code",
      "source": [
        "\n",
        "\n",
        "trkal = Pk2[1] + Pk2[6]\n",
        "detkal = Pk2[1] * Pk2[6] - Pk2[2]^2\n",
        "lambdakal = (trkal + (trkal^2 - 4*detkal)^(0.5))/2\n",
        "\n",
        "trdelta = R2[1] + R2[6]\n",
        "detdelta = R2[1] * R2[6] - R2[2]^2\n",
        "lambdadelta = (trdelta + (trdelta^2 - 4*detdelta)^(0.5))/2\n",
        "\n",
        "Ddelta = (5.991*lambdadelta)^0.5\n",
        "Ddeltatrue = ((x[3] - truex[3])^2 + (y[3] - truey[3])^2)^0.5\n",
        "\n",
        "Dkal = (5.991*lambdakal)^0.5\n",
        "Dkaltrue = ((xk2[1] - truex[3])^2 + (xk2[2] - truey[3])^2)^0.5;"
      ],
      "outputs": [],
      "execution_count": 90,
      "metadata": {
        "collapsed": true,
        "jupyter": {
          "source_hidden": false,
          "outputs_hidden": false
        },
        "nteract": {
          "transient": {
            "deleting": false
          }
        },
        "execution": {
          "iopub.status.busy": "2021-03-16T12:26:52.153Z",
          "iopub.execute_input": "2021-03-16T12:26:52.159Z",
          "iopub.status.idle": "2021-03-16T12:26:52.170Z"
        }
      }
    },
    {
      "cell_type": "code",
      "source": [
        "Pk3 = (I(4) - K3)*Pkp3*((I(4) - K3)') + K3*R3*K3'\n",
        "trkal = Pk3[1] + Pk3[6]\n",
        "detkal = Pk3[1] * Pk3[6] - Pk3[2]^2\n",
        "\n",
        "lambdakal = (trkal + (trkal^2 - 4*detkal)^(0.5))/2\n",
        "\n",
        "\n",
        "trdelta = R3[1] + R3[6]\n",
        "detdelta = R3[1] * R3[6] - R3[2]^2\n",
        "lambdadelta = (trdelta + (trdelta^2 - 4*detdelta)^(0.5))/2\n",
        "\n",
        "@show Ddelta = (5.991*lambdadelta)^0.5\n",
        "@show Ddeltatrue = ((x[4] - truex[4])^2 + (y[4] - truey[4])^2)^0.5\n",
        "@show Dkal = (5.991*lambdakal)^0.5\n",
        "@show Dkaltrue = ((xk3[1] - truex[4])^2 + (xk3[2] - truey[4])^2)^0.5\n",
        "@show Dkal < Ddelta\n",
        "@show Dkaltrue < Ddeltatrue\n",
        "@show Dkaltrue < Dkal"
      ],
      "outputs": [
        {
          "output_type": "stream",
          "name": "stdout",
          "text": [
            "Ddelta = (5.991lambdadelta) ^ 0.5 = 0.41421176792858194\n",
            "Ddeltatrue = ((x[4] - truex[4]) ^ 2 + (y[4] - truey[4]) ^ 2) ^ 0.5 = 0.33358998183360655\n",
            "Dkal = (5.991lambdakal) ^ 0.5 = 0.38480116172450896\n",
            "Dkaltrue = ((xk3[1] - truex[4]) ^ 2 + (xk3[2] - truey[4]) ^ 2) ^ 0.5 = 0.3123569083854453\n",
            "Dkal < Ddelta = true\n",
            "Dkaltrue < Ddeltatrue = true\n",
            "Dkaltrue < Dkal = true\n"
          ]
        },
        {
          "output_type": "execute_result",
          "execution_count": 91,
          "data": {
            "text/plain": "true"
          },
          "metadata": {}
        }
      ],
      "execution_count": 91,
      "metadata": {
        "collapsed": true,
        "jupyter": {
          "source_hidden": false,
          "outputs_hidden": false
        },
        "nteract": {
          "transient": {
            "deleting": false
          }
        },
        "execution": {
          "iopub.status.busy": "2021-03-16T12:26:52.181Z",
          "iopub.execute_input": "2021-03-16T12:26:52.186Z",
          "iopub.status.idle": "2021-03-16T12:26:52.208Z"
        }
      }
    },
    {
      "cell_type": "code",
      "source": [
        "@show Aobs = [x[1], y[1]]\n",
        "@show Bobs = [x[2], y[2]]\n",
        "@show Cobs = [x[3], y[3]]\n",
        "@show Dobs = [x[4], y[4]]\n",
        "@show Ckal = xk2[1:2]\n",
        "@show Dkal = xk3[1:2]"
      ],
      "outputs": [
        {
          "output_type": "stream",
          "name": "stdout",
          "text": [
            "Aobs = [x[1], y[1]] = [1.2148194479767016, 1.4213916746348352]\n",
            "Bobs = [x[2], y[2]] = [1.43661693418501, 1.0283612159026274]\n",
            "Cobs = [x[3], y[3]] = [1.3207628820943922, 0.49430322552859923]\n",
            "Dobs = [x[4], y[4]] = [0.46675024559440764, -0.16506244231053838]\n",
            "Ckal = xk2[1:2] = [1.3735560481433202, 0.4928744930964556]\n",
            "Dkal = xk3[1:2] = [0.5598991133805927, -0.34979590201174793]\n"
          ]
        },
        {
          "output_type": "execute_result",
          "execution_count": 92,
          "data": {
            "text/plain": "2-element Array{Float64,1}:\n  0.5598991133805927\n -0.34979590201174793"
          },
          "metadata": {}
        }
      ],
      "execution_count": 92,
      "metadata": {
        "collapsed": true,
        "jupyter": {
          "source_hidden": false,
          "outputs_hidden": false
        },
        "nteract": {
          "transient": {
            "deleting": false
          }
        },
        "execution": {
          "iopub.status.busy": "2021-03-16T12:26:52.216Z",
          "iopub.execute_input": "2021-03-16T12:26:52.222Z",
          "iopub.status.idle": "2021-03-16T12:26:52.240Z"
        }
      }
    },
    {
      "cell_type": "code",
      "source": [
        "R1 = [varX[2] covXY[2] 0 0; covXY[2] varY[2] 0 0; 0 0 varVx[2] 0; 0 0 0 varVy[2]]"
      ],
      "outputs": [
        {
          "output_type": "execute_result",
          "execution_count": 93,
          "data": {
            "text/plain": "4×4 Array{Float64,2}:\n 0.133801   0.0309884  0.0       0.0\n 0.0309884  0.0209031  0.0       0.0\n 0.0        0.0        0.276683  0.0\n 0.0        0.0        0.0       0.0707034"
          },
          "metadata": {}
        }
      ],
      "execution_count": 93,
      "metadata": {
        "collapsed": true,
        "jupyter": {
          "source_hidden": false,
          "outputs_hidden": false
        },
        "nteract": {
          "transient": {
            "deleting": false
          }
        },
        "execution": {
          "iopub.status.busy": "2021-03-16T12:26:52.249Z",
          "iopub.execute_input": "2021-03-16T12:26:52.254Z",
          "iopub.status.idle": "2021-03-16T12:26:52.268Z"
        }
      }
    },
    {
      "cell_type": "code",
      "source": [
        "@show theta1ex = copy(theta1);\n",
        "@show theta2ex = copy(theta2);\n",
        "@show xex = copy(x);\n",
        "@show yex = copy(y);"
      ],
      "outputs": [
        {
          "output_type": "stream",
          "name": "stdout",
          "text": [
            "theta1ex = copy(theta1) = [0.7071984408742489, 0.9495306736556037, 1.2126782279102353, 1.9107119064856337]\n",
            "theta2ex = copy(theta2) = [1.9046853397244403, 1.5905354316673237, 1.2051330886436615, 0.38104291261978]\n",
            "xex = copy(x) = [1.2148194479767016, 1.43661693418501, 1.3207628820943922, 0.46675024559440764]\n",
            "yex = copy(y) = [1.4213916746348352, 1.0283612159026274, 0.49430322552859923, -0.16506244231053838]\n"
          ]
        }
      ],
      "execution_count": 94,
      "metadata": {
        "collapsed": true,
        "jupyter": {
          "source_hidden": false,
          "outputs_hidden": false
        },
        "nteract": {
          "transient": {
            "deleting": false
          }
        },
        "execution": {
          "iopub.status.busy": "2021-03-16T12:26:52.277Z",
          "iopub.execute_input": "2021-03-16T12:26:52.283Z",
          "iopub.status.idle": "2021-03-16T12:26:52.297Z"
        }
      }
    },
    {
      "cell_type": "code",
      "source": [
        "R3"
      ],
      "outputs": [
        {
          "output_type": "execute_result",
          "execution_count": 98,
          "data": {
            "text/plain": "4×4 Array{Float64,2}:\n  0.0242784   -0.00981542  0.0      0.0\n -0.00981542   0.00654028  0.0      0.0\n  0.0          0.0         0.10028  0.0\n  0.0          0.0         0.0      0.0174324"
          },
          "metadata": {}
        }
      ],
      "execution_count": 98,
      "metadata": {
        "collapsed": true,
        "jupyter": {
          "source_hidden": false,
          "outputs_hidden": false
        },
        "nteract": {
          "transient": {
            "deleting": false
          }
        },
        "execution": {
          "iopub.status.busy": "2021-03-16T14:22:52.775Z",
          "iopub.execute_input": "2021-03-16T14:22:52.797Z",
          "iopub.status.idle": "2021-03-16T14:22:52.829Z"
        }
      }
    }
  ],
  "metadata": {
    "kernel_info": {
      "name": "julia-1.0"
    },
    "language_info": {
      "file_extension": ".jl",
      "name": "julia",
      "mimetype": "application/julia",
      "version": "1.5.3"
    },
    "kernelspec": {
      "argv": [
        "C:\\Users\\Emile\\AppData\\Local\\JuliaPro-1.0.5-2\\Julia-1.0.5\\bin\\julia.exe",
        "-i",
        "--startup-file=yes",
        "--color=yes",
        "--project=@.",
        "C:\\Users\\Emile\\.juliapro\\JuliaPro_v1.0.5-2\\packages\\IJulia\\fRegO\\src\\kernel.jl",
        "{connection_file}"
      ],
      "display_name": "Julia 1.0.5",
      "env": {},
      "interrupt_mode": "message",
      "language": "julia",
      "name": "julia-1.0"
    },
    "nteract": {
      "version": "0.28.0"
    }
  },
  "nbformat": 4,
  "nbformat_minor": 0
}