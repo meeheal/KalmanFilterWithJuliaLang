{
  "cells": [
    {
      "cell_type": "code",
      "source": [
        "#Tested on Julia 1.5.3\n",
        "\n",
        "using LinearAlgebra\n",
        "\n",
        "A = [1 0 1 0; 0 1 0 1; 0 0 1 0; 0 0 0 1]\n",
        "sigma = 0.09774;\n",
        "\n",
        "#Kalman filtering "
      ],
      "outputs": [],
      "execution_count": 115,
      "metadata": {
        "collapsed": true,
        "jupyter": {
          "source_hidden": false,
          "outputs_hidden": false
        },
        "nteract": {
          "transient": {
            "deleting": false
          }
        },
        "execution": {
          "iopub.status.busy": "2021-03-16T19:32:49.780Z",
          "iopub.execute_input": "2021-03-16T19:32:49.789Z",
          "iopub.status.idle": "2021-03-16T19:32:49.804Z"
        }
      }
    },
    {
      "cell_type": "code",
      "source": [
        "# Example with seven cross-fix points\n",
        "#true position of target\n",
        "#note zero #acceleration\n",
        "truex = [1.4, 1.3, 1.2, 1.1, 1.0, 0.9, 0.8]\n",
        "truey = [1.65, 1.35, 1.05, 0.75, 0.45, 0.15, -0.15]\n",
        "\n",
        "#these are the inverse transformation functions F and G\n",
        "truetheta1 = pi * (truey .< 0) .+ atan.(truex./truey);\n",
        "truetheta2 = pi * (truey .> 1) .+ atan.(truex./(1 .- truey))\n",
        "\n",
        "theta1 = (truetheta1 .+ randn(7)*sigma)\n",
        "theta2 = (truetheta2 .+ randn(7)*sigma)\n",
        "\n",
        "#here are the observations x and y\n",
        "#these are also the transformation functions f and g\n",
        "x = (sin.(theta1) .* sin.(theta2) ) ./ (sin.(theta1 .+ theta2))\n",
        "y = (cos.(theta1) .* sin.(theta2) ) ./ (sin.(theta1 .+ theta2));\n"
      ],
      "outputs": [],
      "execution_count": 116,
      "metadata": {
        "collapsed": true,
        "jupyter": {
          "source_hidden": false,
          "outputs_hidden": false
        },
        "nteract": {
          "transient": {
            "deleting": false
          }
        },
        "execution": {
          "iopub.status.busy": "2021-03-16T19:32:49.818Z",
          "iopub.execute_input": "2021-03-16T19:32:49.825Z",
          "iopub.status.idle": "2021-03-16T19:32:49.837Z"
        }
      }
    },
    {
      "cell_type": "code",
      "source": [
        "#for any observation after #2, directional velocities \n",
        "vx = similar(x)\n",
        "vx[1] = 0\n",
        "for i in 2:length(x)\n",
        "     vx[i] = x[i] - x[i-1]\n",
        "end\n",
        "\n",
        "vy = similar(y)\n",
        "vy[1] = 0\n",
        "for i in 2:length(y)\n",
        "     vy[i] = y[i] - y[i-1]\n",
        "end\n"
      ],
      "outputs": [],
      "execution_count": 117,
      "metadata": {
        "collapsed": true,
        "jupyter": {
          "source_hidden": false,
          "outputs_hidden": false
        },
        "nteract": {
          "transient": {
            "deleting": false
          }
        },
        "execution": {
          "iopub.status.busy": "2021-03-16T19:32:49.849Z",
          "iopub.execute_input": "2021-03-16T19:32:49.856Z",
          "iopub.status.idle": "2021-03-16T19:32:49.867Z"
        }
      }
    },
    {
      "cell_type": "code",
      "source": [
        "#partial derivatives of f and g wrt theta1 and theta2\n",
        "\n",
        "dfdtheta1 = (1 ./ sin.(theta1 .+ theta2)) .*(sin.(theta2).*cos.(theta1) .- sin.(theta2).*sin.(theta1).*cot.(theta1 .+ theta2))\n",
        "\n",
        "dfdtheta2 = (1 ./ sin.(theta1 .+ theta2)).*(sin.(theta1).*cos.(theta2) .- sin.(theta2).*sin.(theta1).*cot.(theta1 .+ theta2))\n",
        "\n",
        "dgdtheta1 = (1 ./ sin.(theta1 .+ theta2)).*(-sin.(theta2).*sin.(theta1) .- sin.(theta2).*cos.(theta1).*cot.(theta1 .+ theta2))\n",
        "\n",
        "dgdtheta2 = (1 ./ sin.(theta1 .+ theta2)).*(cos.(theta2).*cos.(theta1) .- sin.(theta2).*cos.(theta1).*cot.(theta1 .+ theta2));\n"
      ],
      "outputs": [],
      "execution_count": 118,
      "metadata": {
        "collapsed": true,
        "jupyter": {
          "source_hidden": false,
          "outputs_hidden": false
        },
        "nteract": {
          "transient": {
            "deleting": false
          }
        },
        "execution": {
          "iopub.status.busy": "2021-03-16T19:32:49.878Z",
          "iopub.execute_input": "2021-03-16T19:32:49.885Z",
          "iopub.status.idle": "2021-03-16T19:32:49.895Z"
        }
      }
    },
    {
      "cell_type": "code",
      "source": [
        "#delta method\n",
        "\n",
        "varX = (sigma ^ 2) .* (dfdtheta1 .^ 2) .+ (sigma ^ 2) .* (dfdtheta2 .^ 2)\n",
        "varY = (sigma ^ 2) .* (dgdtheta1 .^ 2) .+ (sigma ^ 2) .* (dgdtheta2 .^ 2)\n",
        "\n",
        "covXY = (sigma ^ 2) .* (dfdtheta1 .* dgdtheta1) .+ (sigma ^ 2) .* (dfdtheta2 .* dgdtheta2);\n"
      ],
      "outputs": [],
      "execution_count": 119,
      "metadata": {
        "collapsed": true,
        "jupyter": {
          "source_hidden": false,
          "outputs_hidden": false
        },
        "nteract": {
          "transient": {
            "deleting": false
          }
        },
        "execution": {
          "iopub.status.busy": "2021-03-16T19:32:49.907Z",
          "iopub.execute_input": "2021-03-16T19:32:49.913Z",
          "iopub.status.idle": "2021-03-16T19:32:49.924Z"
        }
      }
    },
    {
      "cell_type": "code",
      "source": [
        "varVx = similar(varX)\n",
        "varVx[1] = 0\n",
        "for i in 2:length(varX)\n",
        "     varVx[i] = varX[i] + varX[i-1]\n",
        "end\n",
        "\n",
        "varVy = similar(varY)\n",
        "varVy[1] = 0\n",
        "for i in 2:length(varY)\n",
        "     varVy[i] = varY[i] + varY[i-1]\n",
        "end\n"
      ],
      "outputs": [],
      "execution_count": 120,
      "metadata": {
        "collapsed": true,
        "jupyter": {
          "source_hidden": false,
          "outputs_hidden": false
        },
        "nteract": {
          "transient": {
            "deleting": false
          }
        },
        "execution": {
          "iopub.status.busy": "2021-03-16T19:32:49.936Z",
          "iopub.execute_input": "2021-03-16T19:32:49.943Z",
          "iopub.status.idle": "2021-03-16T19:32:49.956Z"
        }
      }
    },
    {
      "cell_type": "code",
      "source": [
        "#Kalman filtering\n",
        "\n",
        "#initial Kalman state\n",
        "xk1 = [x[2], y[2], vx[2], vy[2]]\n",
        "\n",
        "#initial Process Covariance Matrix is initial Sensor Data Error\n",
        "Pk1 = [varX[2] covXY[2] 0 0; covXY[2] varY[2] 0 0; 0 0 varVx[2] 0; 0 0 0 varVy[2]]\n",
        "\n",
        "#predicted Kalman state\n",
        "xkp2 = A*xk1\n",
        "\n",
        "#predicted Process Covariance Matrix\n",
        "Pkp2 = A*Pk1*A' \n",
        "\n",
        "#setting off-diagonal elements to zero (except 2 and 5)\n",
        "Pkp2[3] = 0\n",
        "Pkp2[4] = 0\n",
        "Pkp2[7] = 0\n",
        "Pkp2[8] = 0\n",
        "Pkp2[9] = 0\n",
        "Pkp2[10] = 0\n",
        "Pkp2[12] = 0\n",
        "Pkp2[13] = 0\n",
        "Pkp2[14] = 0\n",
        "Pkp2[15] = 0\n",
        "\n",
        "#Sensor Data Error \n",
        "R2 = [varX[3] covXY[3] 0 0; covXY[3] varY[3] 0 0; 0 0 varVx[3] 0; 0 0 0 varVy[3]]\n",
        "\n",
        "#Kalman Gain\n",
        "K2 = (Pkp2' + R2)\\(Pkp2)\n",
        "\n",
        "#Observation\n",
        "yk2 = [x[3], y[3], vx[3], vy[3]]\n",
        "\n",
        "#Updated Kalman state\n",
        "xk2 = xkp2 + K2*(yk2 - xkp2);\n"
      ],
      "outputs": [
        {
          "output_type": "execute_result",
          "execution_count": 121,
          "data": {
            "text/plain": "4-element Array{Float64,1}:\n  1.0740088019686453\n  0.9490110787273948\n  0.1586212988825807\n -0.15559566083422094"
          },
          "metadata": {}
        }
      ],
      "execution_count": 121,
      "metadata": {
        "collapsed": true,
        "jupyter": {
          "source_hidden": false,
          "outputs_hidden": false
        },
        "nteract": {
          "transient": {
            "deleting": false
          }
        },
        "execution": {
          "iopub.status.busy": "2021-03-16T19:32:49.968Z",
          "iopub.execute_input": "2021-03-16T19:32:49.975Z",
          "iopub.status.idle": "2021-03-16T19:32:50.059Z"
        }
      }
    },
    {
      "cell_type": "code",
      "source": [
        "#Updated Process Covariance Matrix\n",
        "Pk2 = (I(4) - K2)*Pkp2*((I(4) - K2)') + K2*R2*K2'\n",
        "\n",
        "xkp3 = A*xk2\n",
        "Pkp3 = A*Pk2*A'\n",
        "Pkp3[3] = 0\n",
        "Pkp3[4] = 0\n",
        "Pkp3[7] = 0\n",
        "Pkp3[8] = 0\n",
        "Pkp3[9] = 0\n",
        "Pkp3[10] = 0\n",
        "Pkp3[12] = 0\n",
        "Pkp3[13] = 0\n",
        "Pkp3[14] = 0\n",
        "Pkp3[15] = 0\n",
        "R3 = [varX[4] covXY[4] 0 0; covXY[4] varY[4] 0 0; 0 0 varVx[4] 0; 0 0 0 varVy[4]]\n",
        "K3 = (Pkp3 + R3)\\Pkp3\n",
        "yk3 = [x[4], y[4], vx[4], vy[4]]\n",
        "xk3 = xkp3 + K3*(yk3 - xkp3);\n"
      ],
      "outputs": [
        {
          "output_type": "execute_result",
          "execution_count": 122,
          "data": {
            "text/plain": "4-element Array{Float64,1}:\n  1.3483160704539383\n  0.9052667475043764\n  0.16796167124438452\n -0.10688884101743822"
          },
          "metadata": {}
        }
      ],
      "execution_count": 122,
      "metadata": {
        "collapsed": true,
        "jupyter": {
          "source_hidden": false,
          "outputs_hidden": false
        },
        "nteract": {
          "transient": {
            "deleting": false
          }
        },
        "execution": {
          "iopub.status.busy": "2021-03-16T19:32:50.070Z",
          "iopub.execute_input": "2021-03-16T19:32:50.077Z",
          "iopub.status.idle": "2021-03-16T19:32:50.094Z"
        }
      }
    },
    {
      "cell_type": "code",
      "source": [
        "Pk3 = (I(4) - K3)*Pkp3*((I(4) - K3)') + K3*R3*K3'\n",
        "\n",
        "xkp4 = A*xk3\n",
        "Pkp4 = A*Pk3*A'\n",
        "Pkp4[3] = 0\n",
        "Pkp4[4] = 0\n",
        "Pkp4[7] = 0\n",
        "Pkp4[8] = 0\n",
        "Pkp4[9] = 0\n",
        "Pkp4[10] = 0\n",
        "Pkp4[12] = 0\n",
        "Pkp4[13] = 0\n",
        "Pkp4[14] = 0\n",
        "Pkp4[15] = 0\n",
        "R4 = [varX[5] covXY[5] 0 0; covXY[5] varY[5] 0 0; 0 0 varVx[5] 0; 0 0 0 varVy[5]]\n",
        "K4 = (Pkp4 + R4)\\Pkp4\n",
        "yk4 = [x[5], y[5], vx[5], vy[5]]\n",
        "xk4 = xkp4 + K4*(yk4 - xkp4);"
      ],
      "outputs": [
        {
          "output_type": "execute_result",
          "execution_count": 123,
          "data": {
            "text/plain": "4-element Array{Float64,1}:\n  0.9771039841394796\n  0.46228641959907824\n -0.05095464712982317\n -0.27316518339579454"
          },
          "metadata": {}
        }
      ],
      "execution_count": 123,
      "metadata": {
        "collapsed": true,
        "jupyter": {
          "source_hidden": false,
          "outputs_hidden": false
        },
        "nteract": {
          "transient": {
            "deleting": false
          }
        },
        "execution": {
          "iopub.status.busy": "2021-03-16T19:32:50.105Z",
          "iopub.execute_input": "2021-03-16T19:32:50.113Z",
          "iopub.status.idle": "2021-03-16T19:32:50.134Z"
        }
      }
    },
    {
      "cell_type": "code",
      "source": [
        "Pk4 = (I(4) - K4)*Pkp4*((I(4) - K4)') + K4*R4*K4'\n",
        "\n",
        "xkp5 = A*xk4\n",
        "Pkp5 = A*Pk4*A'\n",
        "Pkp5[3] = 0\n",
        "Pkp5[4] = 0\n",
        "Pkp5[7] = 0\n",
        "Pkp5[8] = 0\n",
        "Pkp5[9] = 0\n",
        "Pkp5[10] = 0\n",
        "Pkp5[12] = 0\n",
        "Pkp5[13] = 0\n",
        "Pkp5[14] = 0\n",
        "Pkp5[15] = 0\n",
        "R5 = [varX[6] covXY[6] 0 0; covXY[6] varY[6] 0 0; 0 0 varVx[6] 0; 0 0 0 varVy[6]]\n",
        "K5 = (Pkp5 + R5)\\Pkp5\n",
        "yk5 = [x[6], y[6], vx[6], vy[6]]\n",
        "xk5 = xkp5 + K5*(yk5 - xkp5);"
      ],
      "outputs": [
        {
          "output_type": "execute_result",
          "execution_count": 124,
          "data": {
            "text/plain": "4-element Array{Float64,1}:\n  0.9417601243167208\n  0.19369109897963482\n -0.0032311645622973145\n -0.2571994625510113"
          },
          "metadata": {}
        }
      ],
      "execution_count": 124,
      "metadata": {
        "collapsed": true,
        "jupyter": {
          "source_hidden": false,
          "outputs_hidden": false
        },
        "nteract": {
          "transient": {
            "deleting": false
          }
        },
        "execution": {
          "iopub.status.busy": "2021-03-16T19:32:50.146Z",
          "iopub.execute_input": "2021-03-16T19:32:50.153Z",
          "iopub.status.idle": "2021-03-16T19:32:50.169Z"
        }
      }
    },
    {
      "cell_type": "code",
      "source": [
        "Pk5 = (I(4) - K5)*Pkp5*((I(4) - K5)') + K5*R5*K5'\n",
        "\n",
        "xkp6 = A*xk5\n",
        "Pkp6 = A*Pk5*A'\n",
        "Pkp6[3] = 0\n",
        "Pkp6[4] = 0\n",
        "Pkp6[7] = 0\n",
        "Pkp6[8] = 0\n",
        "Pkp6[9] = 0\n",
        "Pkp6[10] = 0\n",
        "Pkp6[12] = 0\n",
        "Pkp6[13] = 0\n",
        "Pkp6[14] = 0\n",
        "Pkp6[15] = 0\n",
        "R6 = [varX[7] covXY[7] 0 0; covXY[7] varY[7] 0 0; 0 0 varVx[7] 0; 0 0 0 varVy[7]]\n",
        "K6 = (Pkp6 + R6)\\Pkp6\n",
        "yk6 = [x[7], y[7], vx[7], vy[7]]\n",
        "xk6 = xkp6 + K6*(yk6 - xkp6);"
      ],
      "outputs": [
        {
          "output_type": "execute_result",
          "execution_count": 132,
          "data": {
            "text/plain": "4-element Array{Float64,1}:\n  1.0906555189134495\n  0.08746654845492213\n  0.04579056152579714\n -0.2829495003481493"
          },
          "metadata": {}
        }
      ],
      "execution_count": 132,
      "metadata": {
        "collapsed": true,
        "jupyter": {
          "source_hidden": false,
          "outputs_hidden": false
        },
        "nteract": {
          "transient": {
            "deleting": false
          }
        },
        "execution": {
          "iopub.status.busy": "2021-03-16T20:10:30.050Z",
          "iopub.execute_input": "2021-03-16T20:10:30.063Z",
          "iopub.status.idle": "2021-03-16T20:10:30.082Z"
        }
      }
    },
    {
      "cell_type": "code",
      "source": [
        "Pk6 = (I(4) - K6)*Pkp6*((I(4) - K6)') + K6*R6*K6'\n",
        "\n",
        "#How to draw 95% confidence error ellipses from \n",
        "#a Covariance Matrix?\n",
        "#drawing two of them, one uses top-left 2x2 submatrix\n",
        "#of R6: the Blue Ellipse\n",
        "#the other uses top-left 2x2 submatrix of Pk6: the Green Ellipse\n",
        "\n",
        "trkal = Pk6[1] + Pk6[6]\n",
        "detkal = Pk6[1] * Pk6[6] - Pk6[2]^2\n",
        "\n",
        "lambdakal = (trkal + (trkal^2 - 4*detkal)^(0.5))/2\n",
        "\n",
        "trdelta = R6[1] + R6[6]\n",
        "detdelta = R6[1] * R6[6] - R6[2]^2\n",
        "lambdadelta = (trdelta + (trdelta^2 - 4*detdelta)^(0.5))/2\n",
        "\n",
        "#usually the Dkal is less than Ddelta\n",
        "#which means Kalman confidence ellipse\n",
        "#has a smaller major axis than the Observation confidence ellipse\n",
        "#DKaltrue < Ddeltatrue often happens but is more a matter of chance\n",
        "#and it means the Kalman state position is closer to the true \n",
        "#position than the Observation\n",
        "#Dkaltrue < Dkal is when the Kalman state position is \n",
        "#within a distance equal to the major axis of\n",
        "#the Kalman Error Confidence Ellipse to the true position of the target\n",
        "\n",
        "@show Ddelta = (5.991*lambdadelta)^0.5\n",
        "@show Ddeltatrue = ((x[7] - truex[7])^2 + (y[7] - truey[7])^2)^0.5\n",
        "@show Dkal = (5.991*lambdakal)^0.5\n",
        "@show Dkaltrue = ((xk6[1] - truex[7])^2 + (xk6[2] - truey[7])^2)^0.5\n",
        "@show Dkal < Ddelta\n",
        "@show Dkaltrue < Ddeltatrue\n",
        "@show Dkaltrue < Dkal"
      ],
      "outputs": [
        {
          "output_type": "stream",
          "name": "stdout",
          "text": [
            "Ddelta = (5.991lambdadelta) ^ 0.5 = 1.289838839393829\n",
            "Ddeltatrue = ((x[7] - truex[7]) ^ 2 + (y[7] - truey[7]) ^ 2) ^ 0.5 = 0.7523764114866829\n",
            "Dkal = (5.991lambdakal) ^ 0.5 = 0.5281294738823917\n",
            "Dkaltrue = ((xk6[1] - truex[7]) ^ 2 + (xk6[2] - truey[7]) ^ 2) ^ 0.5 = 0.3753278464355402\n",
            "Dkal < Ddelta = true\n",
            "Dkaltrue < Ddeltatrue = true\n",
            "Dkaltrue < Dkal = true\n"
          ]
        },
        {
          "output_type": "execute_result",
          "execution_count": 126,
          "data": {
            "text/plain": "true"
          },
          "metadata": {}
        }
      ],
      "execution_count": 126,
      "metadata": {
        "collapsed": true,
        "jupyter": {
          "source_hidden": false,
          "outputs_hidden": false
        },
        "nteract": {
          "transient": {
            "deleting": false
          }
        },
        "execution": {
          "iopub.status.busy": "2021-03-16T19:32:50.220Z",
          "iopub.execute_input": "2021-03-16T19:32:50.228Z",
          "iopub.status.idle": "2021-03-16T19:32:50.251Z"
        }
      }
    },
    {
      "cell_type": "code",
      "source": [
        "@show Aobs = [x[1], y[1]]\n",
        "@show Bobs = [x[2], y[2]]\n",
        "@show Cobs = [x[3], y[3]]\n",
        "@show Dobs = [x[4], y[4]]\n",
        "@show Eobs = [x[5], y[5]]\n",
        "@show Fobs = [x[6], y[6]]\n",
        "@show Gobs = [x[7], y[7]]\n",
        "@show Ckal = xk2[1:2]\n",
        "@show Dkal = xk3[1:2]\n",
        "@show Ekal = xk4[1:2]\n",
        "@show Fkal = xk5[1:2]\n",
        "@show Gkal = xk6[1:2];\n"
      ],
      "outputs": [
        {
          "output_type": "stream",
          "name": "stdout",
          "text": [
            "Aobs = [x[1], y[1]] = [1.338001378912692, 1.8414158596986516]\n",
            "Bobs = [x[2], y[2]] = [0.8581576559764524, 1.1306583304872226]\n",
            "Cobs = [x[3], y[3]] = [1.2580464962516391, 1.0413365903142222]\n",
            "Dobs = [x[4], y[4]] = [1.4474211997064996, 1.00947389262003]\n",
            "Eobs = [x[5], y[5]] = [0.8991184436010751, 0.4273487860554108]\n",
            "Fobs = [x[6], y[6]] = [0.9489529361231394, 0.193172677360586]\n",
            "Gobs = [x[7], y[7]] = [1.5046656222848585, -0.4136600563822128]\n",
            "Ckal = xk2[1:2] = [1.0740088019686453, 0.9490110787273948]\n",
            "Dkal = xk3[1:2] = [1.3483160704539383, 0.9052667475043764]\n",
            "Ekal = xk4[1:2] = [0.9771039841394796, 0.46228641959907824]\n",
            "Fkal = xk5[1:2] = [0.9417601243167208, 0.19369109897963482]\n",
            "Gkal = xk6[1:2] = [1.0906555189134495, 0.08746654845492213]\n"
          ]
        }
      ],
      "execution_count": 134,
      "metadata": {
        "collapsed": true,
        "jupyter": {
          "source_hidden": false,
          "outputs_hidden": false
        },
        "nteract": {
          "transient": {
            "deleting": false
          }
        },
        "execution": {
          "iopub.status.busy": "2021-03-23T13:31:47.137Z",
          "iopub.execute_input": "2021-03-23T13:31:47.149Z",
          "iopub.status.idle": "2021-03-23T13:31:47.216Z"
        }
      }
    },
    {
      "cell_type": "code",
      "source": [
        "R6"
      ],
      "outputs": [
        {
          "output_type": "execute_result",
          "execution_count": 133,
          "data": {
            "text/plain": "4×4 Array{Float64,2}:\n  0.230214  -0.100939   0.0       0.0\n -0.100939   0.0631216  0.0       0.0\n  0.0        0.0        0.261612  0.0\n  0.0        0.0        0.0       0.0701483"
          },
          "metadata": {}
        }
      ],
      "execution_count": 133,
      "metadata": {
        "collapsed": true,
        "jupyter": {
          "source_hidden": false,
          "outputs_hidden": false
        },
        "nteract": {
          "transient": {
            "deleting": false
          }
        },
        "execution": {
          "iopub.status.busy": "2021-03-16T20:10:37.679Z",
          "iopub.execute_input": "2021-03-16T20:10:37.692Z",
          "iopub.status.idle": "2021-03-16T20:10:37.713Z"
        }
      }
    },
    {
      "cell_type": "code",
      "source": [
        "@show theta1ex = copy(theta1);\n",
        "@show theta2ex = copy(theta2);\n",
        "@show xex = copy(x);\n",
        "@show yex = copy(y);\n",
        "#values in example 2 in Annex are:\n",
        "#theta1ex = [0.6284, 0.6492, 0.8794, 0.9618, 1.1271, 1.3700, 1.8391];\n",
        "#theta2ex = [2.1322, 1.7219, 1.6036, 1.5773, 1.0037, 0.8662, 0.8166];\n",
        "#xex = [1.338, 0.858, 1.258, 1.447, 0.899, 0.949, 1.505];\n",
        "#yex = [1.841, 1.131, 1.041, 1.009, 0.427, 0.193, -0.414];"
      ],
      "outputs": [
        {
          "output_type": "stream",
          "name": "stdout",
          "text": [
            "theta1ex = copy(theta1) = [0.6283663159064792, 0.649229526275132, 0.8793675693164166, 0.9617977774710615, 1.127105250944439, 1.36997618227606, 1.8390865440876325]\n",
            "theta2ex = copy(theta2) = [2.132166725697592, 1.7218903927059386, 1.6036422700559108, 1.5773415931850534, 1.0036833189898502, 0.8661693210542865, 0.8165722315413557]\n",
            "xex = copy(x) = [1.338001378912692, 0.8581576559764524, 1.2580464962516391, 1.4474211997064996, 0.8991184436010751, 0.9489529361231394, 1.5046656222848585]\n",
            "yex = copy(y) = [1.8414158596986516, 1.1306583304872226, 1.0413365903142222, 1.00947389262003, 0.4273487860554108, 0.193172677360586, -0.4136600563822128]\n"
          ]
        }
      ],
      "execution_count": 129,
      "metadata": {
        "collapsed": true,
        "jupyter": {
          "source_hidden": false,
          "outputs_hidden": false
        },
        "nteract": {
          "transient": {
            "deleting": false
          }
        },
        "execution": {
          "iopub.status.busy": "2021-03-16T19:32:50.339Z",
          "iopub.execute_input": "2021-03-16T19:32:50.347Z",
          "iopub.status.idle": "2021-03-16T19:32:50.364Z"
        }
      }
    },
    {
      "cell_type": "code",
      "source": [
        "Pk6"
      ],
      "outputs": [
        {
          "output_type": "execute_result",
          "execution_count": 130,
          "data": {
            "text/plain": "4×4 Array{Float64,2}:\n 0.0401718   0.00643297  0.0        0.0\n 0.00643297  0.0400752   0.0        0.0\n 0.0         0.0         0.0229445  0.0\n 0.0         0.0         0.0        0.00516633"
          },
          "metadata": {}
        }
      ],
      "execution_count": 130,
      "metadata": {
        "collapsed": true,
        "jupyter": {
          "source_hidden": false,
          "outputs_hidden": false
        },
        "nteract": {
          "transient": {
            "deleting": false
          }
        },
        "execution": {
          "iopub.status.busy": "2021-03-16T19:32:50.374Z",
          "iopub.execute_input": "2021-03-16T19:32:50.383Z",
          "iopub.status.idle": "2021-03-16T19:32:50.399Z"
        }
      }
    }
  ],
  "metadata": {
    "kernel_info": {
      "name": "julia-1.0"
    },
    "language_info": {
      "file_extension": ".jl",
      "name": "julia",
      "mimetype": "application/julia",
      "version": "1.5.3"
    },
    "kernelspec": {
      "argv": [
        "C:\\Users\\Emile\\AppData\\Local\\JuliaPro-1.0.5-2\\Julia-1.0.5\\bin\\julia.exe",
        "-i",
        "--startup-file=yes",
        "--color=yes",
        "--project=@.",
        "C:\\Users\\Emile\\.juliapro\\JuliaPro_v1.0.5-2\\packages\\IJulia\\fRegO\\src\\kernel.jl",
        "{connection_file}"
      ],
      "display_name": "Julia 1.0.5",
      "env": {},
      "interrupt_mode": "message",
      "language": "julia",
      "name": "julia-1.0"
    },
    "nteract": {
      "version": "0.28.0"
    }
  },
  "nbformat": 4,
  "nbformat_minor": 0
}